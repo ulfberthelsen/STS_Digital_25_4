{
 "cells": [
  {
   "cell_type": "markdown",
   "id": "8e7aee83-ee41-44b5-9082-c782df0dec2d",
   "metadata": {},
   "source": [
    "## Sprog, Tekst og samfund 2025\n",
    "# 4. Introduktion til Pythonprogrammering og Digital Tekstanalyse: Analyser og plots \n",
    "\n",
    "### *Ulf Dalvad Berthelsen*\n",
    "\n",
    "***\n",
    "***\n",
    "\n",
    "Keywords: `data`, `meta-data`, `datasæt`, `datatyper`, `dictionaries`, `data frames`, `pre-processing`, `funktioner`, `plots`, `sentiment`\n",
    "\n",
    "Nye Python-udtryk: `.sort_values()`, `Counter`\n",
    "***\n",
    "***\n",
    "\n"
   ]
  },
  {
   "cell_type": "markdown",
   "id": "711dacb7-c995-4210-94e9-6f1aa72a8190",
   "metadata": {},
   "source": [
    "# Del 1: Klargøring af datasæt (samme skridt i Notebook 3)\n",
    "\n",
    "Kodefelterne i del 1 indeholder samme skridt som Notebook 3 og resulterer i et færdigt datasæt, der er klar til brug.\n",
    "\n",
    "**Læs koden i hvert felt.**\n",
    "\n",
    "**Vær sikker på I forstår de enkelte dele inden I kører den.**\n"
   ]
  },
  {
   "cell_type": "markdown",
   "id": "abc9bbf3-06d4-4cb0-a2f2-61eeeb3b9275",
   "metadata": {},
   "source": [
    "### Installer nye pakker\n",
    "Fjern `#`'et, installer pakken og genindsæt `#`'et, så pakken ikke installeres hver gang scriptet kører."
   ]
  },
  {
   "cell_type": "code",
   "execution_count": null,
   "id": "a029c036-e23b-4bf9-9608-a7df707d4b19",
   "metadata": {},
   "outputs": [],
   "source": [
    "# !pip3 install numpy"
   ]
  },
  {
   "cell_type": "code",
   "execution_count": null,
   "id": "1073e45f-2045-4b6d-8b4a-f3f878644729",
   "metadata": {},
   "outputs": [],
   "source": [
    "# !pip3 installseaborn"
   ]
  },
  {
   "cell_type": "code",
   "execution_count": null,
   "id": "48f82dc1-ebf3-40f6-8590-51e19884ab76",
   "metadata": {},
   "outputs": [],
   "source": [
    "# !pip3 install sentida"
   ]
  },
  {
   "cell_type": "markdown",
   "id": "b8262159-36e5-40df-8d69-1e3f249d5517",
   "metadata": {},
   "source": [
    "### Importer nødvendige pakker"
   ]
  },
  {
   "cell_type": "code",
   "execution_count": null,
   "id": "d6e45385-4bf6-4bad-8623-e5af91d739f5",
   "metadata": {},
   "outputs": [],
   "source": [
    "import os #os-pakken tillader os bl.a. at finde filplaceringer på computeren\n",
    "import pandas as pd # pandas-pakken hjælper os med at lave data frames (tænk på regneark), data frames er en data type med egne methods\n",
    "from collections import Counter # hjælper os med at tælle ord, skal ikke installeres, kommer som standard\n",
    "import matplotlib.pyplot as plt #matplotlib-pakken tilbyder som navnet antyder hjælp til at plotte vores resultater\n",
    "import numpy as np  # numpy understøtter matplotlib med lidt matematik til maskinrummet\n",
    "import seaborn as sns  # Importerer Seaborn til flottere grafer\n",
    "from sentida import Sentida"
   ]
  },
  {
   "cell_type": "markdown",
   "id": "bdcb2ea1-bc58-4143-a1a5-0124805944ae",
   "metadata": {},
   "source": [
    "### Åben og indlæs tekstfiler"
   ]
  },
  {
   "cell_type": "code",
   "execution_count": null,
   "id": "677d28fa-2e75-4171-87cd-375223245b1c",
   "metadata": {},
   "outputs": [],
   "source": [
    "taler = [] \n",
    "\n",
    "path = os.path.join(\"Coronataler\") \n",
    "\n",
    "for fil in os.scandir(path):\n",
    "    if fil.is_file():\n",
    "        with open (fil, encoding = \"utf8\", errors=\"ignore\") as f: \n",
    "            taler.append(f.read()) "
   ]
  },
  {
   "cell_type": "markdown",
   "id": "e5c2032e-007f-43e9-bd20-7a842714b6ed",
   "metadata": {},
   "source": [
    "### Åben og indlæs stopordslisten"
   ]
  },
  {
   "cell_type": "code",
   "execution_count": null,
   "id": "94211221-a22e-4278-99ac-e3f7b126370a",
   "metadata": {},
   "outputs": [],
   "source": [
    "filnavn = os.path.join(\"stopord.txt\")\n",
    "with open(filnavn, encoding=\"utf8\",errors=\"replace\") as f:   \n",
    "    stopord = f.read().split()"
   ]
  },
  {
   "cell_type": "markdown",
   "id": "98b8a451-e19c-4f67-865c-d0c031582a0c",
   "metadata": {},
   "source": [
    "Hvis vi får brug for at tilføje ord til stopordslisten, kan vi gøre det ved hjælp af `+`-operatoren.\n",
    "\n",
    "**Kommentér** kodelinjen nedenfor. Hvad sker der?"
   ]
  },
  {
   "cell_type": "code",
   "execution_count": null,
   "id": "04970737-538e-43c8-8193-da543ceb62b9",
   "metadata": {},
   "outputs": [],
   "source": [
    "stop_extended = stopord + [\"Danmark\", \"danmark\", \"danske\", \"danskere\", \"selvfølgelig\", \"står\", \"rigtig\"]"
   ]
  },
  {
   "cell_type": "markdown",
   "id": "9e69b4ad-c2a0-4daa-957b-64d0edfd2a2e",
   "metadata": {},
   "source": [
    "### Metadata\n",
    "Nedenfor laver vi lister med de metadata, vi har brug for. Kør de enkelte kodelinjer. **Husk** at tjekke om indeholdet er som forventet. **Skriv** en kort kommentar til hver kodelinje, der forklarer hvad der sker.\n",
    "\n",
    "**Forfatter**"
   ]
  },
  {
   "cell_type": "code",
   "execution_count": null,
   "id": "33e55017-29e0-40a9-8af1-20810864deaa",
   "metadata": {},
   "outputs": [],
   "source": [
    "forfatter = [\"Mette Frederiksen\"]*14"
   ]
  },
  {
   "cell_type": "code",
   "execution_count": null,
   "id": "a8a595a3-64d7-4327-8df2-341481ba900c",
   "metadata": {},
   "outputs": [],
   "source": []
  },
  {
   "cell_type": "markdown",
   "id": "3931e0c1-58e9-48d4-b510-a9bc3265b1ce",
   "metadata": {},
   "source": [
    "**Titler**"
   ]
  },
  {
   "cell_type": "code",
   "execution_count": null,
   "id": "4d12d9a8-740a-4f94-b702-fb17acb0e80f",
   "metadata": {},
   "outputs": [],
   "source": [
    "titler = []\n",
    "\n",
    "for t in taler:\n",
    "    titel = t.split(\"\\n\")[0]\n",
    "    titler.append(titel)"
   ]
  },
  {
   "cell_type": "code",
   "execution_count": null,
   "id": "40308fef-8e9d-4833-9378-71fe056850d4",
   "metadata": {},
   "outputs": [],
   "source": []
  },
  {
   "cell_type": "markdown",
   "id": "d5f983b6-f40c-466f-9934-e27151c14bc9",
   "metadata": {},
   "source": [
    "**Datoer**"
   ]
  },
  {
   "cell_type": "code",
   "execution_count": null,
   "id": "23e4fd25-2b76-430a-b7b1-e4fa4f768b60",
   "metadata": {},
   "outputs": [],
   "source": [
    "datoer = []\n",
    "for t in titler:\n",
    "    datoer.append(t[-10:])"
   ]
  },
  {
   "cell_type": "code",
   "execution_count": null,
   "id": "3302d98e-a801-401c-ad3a-dcdecf73d85d",
   "metadata": {},
   "outputs": [],
   "source": []
  },
  {
   "cell_type": "markdown",
   "id": "51b63cf7-0f26-475b-9adf-897b62c2d57f",
   "metadata": {},
   "source": [
    "**Fjern titel og dato fra teksten**."
   ]
  },
  {
   "cell_type": "code",
   "execution_count": null,
   "id": "b2d8ae87-8a8f-4023-88ec-cc453391eebd",
   "metadata": {},
   "outputs": [],
   "source": [
    "taler_txt = []\n",
    "\n",
    "for t in taler:\n",
    "    første_linje = t.split()[0]\n",
    "    taler_txt.append(t.replace(str(første_linje), \" \"))"
   ]
  },
  {
   "cell_type": "code",
   "execution_count": null,
   "id": "00221d34-8446-48d3-a36c-2f6ebfad60c1",
   "metadata": {},
   "outputs": [],
   "source": []
  },
  {
   "cell_type": "markdown",
   "id": "3cdd01b1-0f79-4fb5-9ac3-be2552b7177d",
   "metadata": {},
   "source": [
    "### Data frames"
   ]
  },
  {
   "cell_type": "markdown",
   "id": "e0a7dd7a-1511-436e-bdcd-392c711ba446",
   "metadata": {},
   "source": [
    "**Lav en dictionary**"
   ]
  },
  {
   "cell_type": "code",
   "execution_count": null,
   "id": "4befbbe1-0286-43ad-a6a2-eb49465c937f",
   "metadata": {},
   "outputs": [],
   "source": [
    "data = {\"Forfatter\": forfatter, \"Titler\": titler, \"Dato\": datoer, \"Taler\": taler_txt}"
   ]
  },
  {
   "cell_type": "code",
   "execution_count": null,
   "id": "949d34cc-2b52-4696-b60a-d33822962aef",
   "metadata": {},
   "outputs": [],
   "source": []
  },
  {
   "cell_type": "markdown",
   "id": "d62a1ac1-668e-4e2e-865d-5b1ad472ee4c",
   "metadata": {},
   "source": [
    "**Konstruer data frame**"
   ]
  },
  {
   "cell_type": "code",
   "execution_count": null,
   "id": "96bb2648-df49-43a1-9777-c2c4ebd24cc2",
   "metadata": {},
   "outputs": [],
   "source": [
    "df = pd.DataFrame(data)"
   ]
  },
  {
   "cell_type": "code",
   "execution_count": null,
   "id": "13f3dacf-141a-4f25-8e46-825470856f52",
   "metadata": {},
   "outputs": [],
   "source": []
  },
  {
   "cell_type": "markdown",
   "id": "312e9937-d57f-4ae7-9bc8-3e7b66731979",
   "metadata": {},
   "source": [
    "### Sortèr `data framen` efter titel\n",
    "\n",
    "Hvis teksterne ikke er blevet indlæst i den rigtige rækkefølge, kan i sortere efter indeholdet af en bestemt kolonne. Kodelinjenjen nedenfor sorterer rækkerne efter indholdet af kolonnen Titler.\n",
    "\n",
    "**Kør** den under alleomstændigheder, så jeres data frame får variabelnavnet `df_taler`"
   ]
  },
  {
   "cell_type": "code",
   "execution_count": null,
   "id": "91149f2f-611c-4e08-bb28-2f9d6e9c4b46",
   "metadata": {},
   "outputs": [],
   "source": [
    "df_taler = df.sort_values(by='Titler')"
   ]
  },
  {
   "cell_type": "markdown",
   "id": "d4627ff9-c048-42f1-ab19-9a3e4c8ba382",
   "metadata": {},
   "source": [
    "**Tjek** jeres `data frame` og undersøg om alt ser ud som det skal."
   ]
  },
  {
   "cell_type": "code",
   "execution_count": null,
   "id": "87c99d92-a023-4e37-a4ce-7f7ccda81e5b",
   "metadata": {},
   "outputs": [],
   "source": []
  },
  {
   "cell_type": "markdown",
   "id": "1fef90a4-e62b-4081-9ac3-6eaa0e7490b7",
   "metadata": {},
   "source": [
    "### Data cleaning"
   ]
  },
  {
   "cell_type": "markdown",
   "id": "894076d5-1ca0-45a3-9abc-8569974010e0",
   "metadata": {},
   "source": [
    "**Definér en rensefunktion der returnerer en ordliste**"
   ]
  },
  {
   "cell_type": "code",
   "execution_count": null,
   "id": "49b7a704-7251-4ee8-8a30-1d95665d93d8",
   "metadata": {},
   "outputs": [],
   "source": [
    "# definition af funktion, der renser teksten for uønskede tegn og returnerer en liste med ord \n",
    "\n",
    "def rens_ord(text_0):\n",
    "    text_1 = text_0.replace(\"\\n\",\" \")\n",
    "    text_2 = text_1.replace(\".\",\" \")\n",
    "    text_3 = text_2.replace(\",\",\" \")\n",
    "    text_4 = text_3.replace(\":\",\" \")\n",
    "    text_5 = text_4.replace(\"*\",\" \")\n",
    "    text_6 = text_5.replace(\"–\",\" \")\n",
    "    text_7 = text_6.replace(\"'\",\" \")\n",
    "    text_8 = text_7.replace(\"”\",\" \")\n",
    "    text_ren = text_8.replace(\"-\",\" \")\n",
    "    text_lav = text_ren.lower()\n",
    "    text_final = text_lav.split()\n",
    "    return text_final"
   ]
  },
  {
   "cell_type": "markdown",
   "id": "c841b4cc-1254-4969-ac44-c81432e1cca7",
   "metadata": {},
   "source": [
    "**Definér en rensefunktion der returnerer teksten som en liste af sætninger**"
   ]
  },
  {
   "cell_type": "code",
   "execution_count": null,
   "id": "d298ffc5-6760-4389-95fa-630321a87429",
   "metadata": {},
   "outputs": [],
   "source": [
    "# definition af funktion, der renser teksten for uønskede tegn og returnerer en liste med sætninger \n",
    "\n",
    "def rens_sæt(text_0):\n",
    "    text_1 = text_0.replace(\"\\n\",\" \")\n",
    "    text_2 = text_1.replace(\";\",\" \")\n",
    "    text_3 = text_2.replace(\",\",\" \")\n",
    "    text_4 = text_3.replace(\":\",\" \")\n",
    "    text_5 = text_4.replace(\"*\",\" \")\n",
    "    text_6 = text_5.replace(\"–\",\" \")\n",
    "    text_7 = text_6.replace(\"'\",\" \")\n",
    "    text_8 = text_7.replace(\"”\",\" \")\n",
    "    text_ren = text_8.replace(\"-\",\" \")\n",
    "    text_lav = text_ren.lower()\n",
    "    text_final = text_lav.split(\".\")\n",
    "    return text_final"
   ]
  },
  {
   "cell_type": "markdown",
   "id": "e38fb28c-462a-4b16-b832-6344235e2d70",
   "metadata": {},
   "source": [
    "**Definér en rensefunktion der returnerer teksten uden stopord**"
   ]
  },
  {
   "cell_type": "code",
   "execution_count": null,
   "id": "e0c65b35-0784-4716-8082-25462fc2ca7b",
   "metadata": {},
   "outputs": [],
   "source": [
    "# definition af funktion, der returnerer en version af teksten, hvor ord, der optræder stopordslisten, er fjernet\n",
    "\n",
    "def goWords(text,stpWrds):\n",
    "    gW = []\n",
    "    for w in text:\n",
    "        if w not in stpWrds:\n",
    "            gW.append(w)\n",
    "    return gW\n"
   ]
  },
  {
   "cell_type": "markdown",
   "id": "43b7a843-186d-42f6-85ed-2dc802610bfc",
   "metadata": {},
   "source": [
    "### Anvend funktioner på `data frames`"
   ]
  },
  {
   "cell_type": "markdown",
   "id": "cd0badad-d697-45fd-8041-d637c8775624",
   "metadata": {},
   "source": [
    "**Lav en kolonne med teksten repræsenteret som ord**"
   ]
  },
  {
   "cell_type": "code",
   "execution_count": null,
   "id": "eedaef5a-5253-48cf-9d0c-98f972c79962",
   "metadata": {},
   "outputs": [],
   "source": [
    "df_taler[\"txt_ord\"] = df_taler[\"Taler\"].apply(rens_ord)"
   ]
  },
  {
   "cell_type": "markdown",
   "id": "20a3a063-2b2f-43c1-bbce-c5923d420473",
   "metadata": {},
   "source": [
    "**Lav en kolonne med teksten repræsenteret som sætninger**"
   ]
  },
  {
   "cell_type": "code",
   "execution_count": null,
   "id": "f9c5b3ed-0ce5-45e9-92e6-7e6a22b19920",
   "metadata": {},
   "outputs": [],
   "source": [
    "df_taler[\"txt_sæt\"] = df_taler[\"Taler\"].apply(rens_sæt)"
   ]
  },
  {
   "cell_type": "markdown",
   "id": "ea57e19b-588f-45a5-ae6f-421f055ba17e",
   "metadata": {},
   "source": [
    "**Lav en kolonne med teksten uden stopord**"
   ]
  },
  {
   "cell_type": "code",
   "execution_count": null,
   "id": "7cba0e42-8175-41c1-bbbe-0e34dfb5864b",
   "metadata": {},
   "outputs": [],
   "source": [
    "df_taler[\"txt_goWords\"] = df_taler[\"txt_ord\"].apply(goWords,args=(stop_extended,))"
   ]
  },
  {
   "cell_type": "markdown",
   "id": "c804bbca-ef33-44bf-a079-904f8f8405e4",
   "metadata": {},
   "source": [
    "**Tjek** jeres `data frame` og undersøg om alle kolonner ser ud som de skal."
   ]
  },
  {
   "cell_type": "code",
   "execution_count": null,
   "id": "f715603a-89c7-40a6-b45a-cf50eece6674",
   "metadata": {},
   "outputs": [],
   "source": []
  },
  {
   "cell_type": "markdown",
   "id": "3da84e26-8c69-45c5-8ffb-a8f5e8f43e3d",
   "metadata": {},
   "source": [
    "# Del 2: Analyser"
   ]
  },
  {
   "cell_type": "markdown",
   "id": "ef10ef1b-20a5-4dd8-9d0e-89276152e1ae",
   "metadata": {},
   "source": [
    "### 2.1 Sentimentanalyse"
   ]
  },
  {
   "cell_type": "markdown",
   "id": "95ffbd05-0abd-4792-9440-8066a0336ce7",
   "metadata": {},
   "source": [
    "Sentiment-analyse er en teknik til vurdere om en tekst er positivt eller negativt ladet. Det kan gøres på forskellige måder, men nedenfor skal vi prøve en model, der hedder Sentida. Det fungerer på den måde, at hvert ord tilskrive en positiv eller en negativ talværdi, og der korrigeres for brug af adverbier. Fx tilskrives '*meget* sjov' en lidt højere værdi en 'sjov', og '*ikke* sjov' tilskrives en væsentligt lavere værdi end *sjov*.\n",
    "\n",
    "Vi begynder med at lave en lille eksempeltekst."
   ]
  },
  {
   "cell_type": "code",
   "execution_count": null,
   "id": "30c39fa2-2d73-4a44-a587-cd1190862df2",
   "metadata": {},
   "outputs": [],
   "source": [
    "exp_txt = \"I denne uge besøger statsminister Mette Frederiksens (S) Grønland, hvor hun efter planen skal mødes med den nye grønlandske regering. Men det har skabt intern uro, efter Vivian Motzfeldt og Jens-Frederik Nielsen, kommende udenrigsminister og regeringsleder henholdsvis, har udtryk forskellige holdninger til det kommende besøg fra den danske statsminister.\""
   ]
  },
  {
   "cell_type": "markdown",
   "id": "147b2355-bd35-4d9d-83d4-a892f3467783",
   "metadata": {},
   "source": [
    "Med `Sentida`-pakken kan vi måle sentiment-værdien af en tekst på to forskellige måder. Hvis vi giver den argumentet `\"mean\"`, returnerer den tekstens gennemsnitlige sentimentscore, hvis vi giver den argumentet `\"total\"`, returnerer den tekstens akkumulerede sentiment-score. \n",
    "\n",
    "Vi måler først den gennemsnitlige score:"
   ]
  },
  {
   "cell_type": "code",
   "execution_count": null,
   "id": "e3077a63-8101-45da-b610-631f2c2ccf39",
   "metadata": {},
   "outputs": [],
   "source": [
    "Sentida().sentida(exp_txt,\"mean\") # læses mål den gennemsnitlige sentiment score for teksten exp_txt med .semtida() fra pakken Sentida"
   ]
  },
  {
   "cell_type": "markdown",
   "id": "3729efaa-dbb4-421f-916b-c04d6db34fcb",
   "metadata": {},
   "source": [
    "**Justér** herefter kodelinjen, så vi i stedet måler den samlede sentiment-score. **Skriv den nye linje** i feltet nedenfor."
   ]
  },
  {
   "cell_type": "code",
   "execution_count": null,
   "id": "ecd84160-6881-4a35-8a6a-0f236709b2f6",
   "metadata": {},
   "outputs": [],
   "source": []
  },
  {
   "cell_type": "markdown",
   "id": "d8f7bc15-260e-4ee4-8e3a-379ac441bbf5",
   "metadata": {},
   "source": [
    "For at vi senere kan bruge `.sentida()` på vores `data frame` bygger vi den nu ind i en `funktion`:"
   ]
  },
  {
   "cell_type": "code",
   "execution_count": null,
   "id": "c00870d7-a307-459f-b360-06039ce3c2a5",
   "metadata": {},
   "outputs": [],
   "source": [
    "def gnsSenti(txt):\n",
    "    gns = Sentida().sentida(txt,\"mean\")\n",
    "    return gns"
   ]
  },
  {
   "cell_type": "markdown",
   "id": "ec317d34-fc2c-421d-9e94-aaf02492488f",
   "metadata": {},
   "source": [
    "**Test** at funktionen virker:"
   ]
  },
  {
   "cell_type": "code",
   "execution_count": null,
   "id": "91e3663a-97f5-41c8-aaaa-e184bceae66a",
   "metadata": {},
   "outputs": [],
   "source": [
    "gnsSenti(exp_txt)"
   ]
  },
  {
   "cell_type": "markdown",
   "id": "57b2ee85-c1f9-4751-8ecc-d66e02b4bb1a",
   "metadata": {},
   "source": [
    "**Skriv** selv en funktion der måler den **akkumulerede score**. I skal kalde funktionen `totalSenti()`"
   ]
  },
  {
   "cell_type": "code",
   "execution_count": null,
   "id": "ac481c48-0d59-46a4-8b09-b598a8aaa400",
   "metadata": {},
   "outputs": [],
   "source": []
  },
  {
   "cell_type": "markdown",
   "id": "5ecb52ae-30d5-4e57-a298-83f3bb2f3144",
   "metadata": {},
   "source": [
    "**Test** at funktionen virker:"
   ]
  },
  {
   "cell_type": "code",
   "execution_count": null,
   "id": "fd27a7d2-c3b9-4fb2-9f2f-6378a3eaf9fc",
   "metadata": {},
   "outputs": [],
   "source": []
  },
  {
   "cell_type": "markdown",
   "id": "6a6ceb4d-3c00-4e81-99a1-599d7cd893ce",
   "metadata": {},
   "source": [
    "**Tilføj en kolonne** til jeres `data frame` med den *gennemsnitlige* sentiment-score:"
   ]
  },
  {
   "cell_type": "code",
   "execution_count": null,
   "id": "b59faea7-b3c2-47b5-99bf-3535302f6b3f",
   "metadata": {},
   "outputs": [],
   "source": [
    "df_taler[\"gnsSenti\"] = df_taler[\"Taler\"].apply(gnsSenti)"
   ]
  },
  {
   "cell_type": "markdown",
   "id": "a59c82dc-37fc-4c82-9ecb-f09f84b39008",
   "metadata": {},
   "source": [
    "**Tjek** om jeres `data frame` ser ud som den skal."
   ]
  },
  {
   "cell_type": "code",
   "execution_count": null,
   "id": "ade948d5-7c50-4434-ae71-5be130cb5b2c",
   "metadata": {},
   "outputs": [],
   "source": [
    "df_taler"
   ]
  },
  {
   "cell_type": "markdown",
   "id": "63c95162-e8aa-47cf-8943-d30e2b86f67a",
   "metadata": {},
   "source": [
    "**Tilføj selv** en kolonne til jeres `data frame` med den *akkumulerede* sentiment-score. Kolonnen skal hedder `\"totalSenti\"`"
   ]
  },
  {
   "cell_type": "code",
   "execution_count": null,
   "id": "31870f73-382b-4d7f-b262-6c86b59f5af9",
   "metadata": {},
   "outputs": [],
   "source": []
  },
  {
   "cell_type": "markdown",
   "id": "3ad14a44-3dd2-4b1f-8aab-1fc5428a5e5f",
   "metadata": {},
   "source": [
    "**Tjek** om jeres `data frame` ser ud som den skal."
   ]
  },
  {
   "cell_type": "code",
   "execution_count": null,
   "id": "d4571957-f071-4f40-83dc-0cb9fe869e1f",
   "metadata": {},
   "outputs": [],
   "source": []
  },
  {
   "cell_type": "markdown",
   "id": "5a97314d-277b-4344-a877-4cb5795740dc",
   "metadata": {},
   "source": [
    "### 2.2 Ordfrekvenser"
   ]
  },
  {
   "cell_type": "markdown",
   "id": "99adb849-0699-40db-a525-e4dbadb69010",
   "metadata": {},
   "source": [
    "Ordfrekvenser er en vigtig del af de fleste kvantitative tekstanalyser. Vi kan måle ordfrevens på forskellige måder. En af de mest simple er at bruge Python's indbygegde `Counter`-funktion. `Counter` returnerer en `dictionary` med `key/value`-par, der består af ord/frekvens.\n",
    "\n",
    "**Afprøv** funktionen nedenfor. **Overvej** hvorfor det er nødvendigt at tilføje `.split()`. Prøv at fjene den og se hvad der sker:"
   ]
  },
  {
   "cell_type": "code",
   "execution_count": null,
   "id": "fffb10da-0f6c-497c-97dc-b81342d5ed73",
   "metadata": {},
   "outputs": [],
   "source": [
    "frekv_lst = Counter(exp_txt.split())"
   ]
  },
  {
   "cell_type": "code",
   "execution_count": null,
   "id": "0db0a97b-c467-465f-94a6-ef3d4d7ec3c3",
   "metadata": {},
   "outputs": [],
   "source": [
    "frekv_lst"
   ]
  },
  {
   "cell_type": "markdown",
   "id": "180c2c25-7f55-48e7-9459-e18bd4179548",
   "metadata": {},
   "source": [
    "Hvis det en en lang tekst, bliver listen meget lang. Vi kan bruge `.most_common(5)` til at begrænse antallet. I eksemplet nedenfor returneres de fem frekvente ord. "
   ]
  },
  {
   "cell_type": "code",
   "execution_count": null,
   "id": "b9741568-8af5-4856-b18d-9260d5fde93d",
   "metadata": {},
   "outputs": [],
   "source": [
    "frekv_lst.most_common(5)"
   ]
  },
  {
   "cell_type": "markdown",
   "id": "12754dc0-67ce-4e63-9adb-ab0bd1837089",
   "metadata": {},
   "source": [
    "Vi **definerer** nu en funktion, der returnerer de fem mest frekvente ord i en tekst. Vi skal senere anvende funktionen på vores `data frame`.\n",
    "\n",
    "**Kommentér** hver enkelt linje i funktionen."
   ]
  },
  {
   "cell_type": "code",
   "execution_count": null,
   "id": "7cffd66e-7388-4c1d-82b7-bbdec0331df2",
   "metadata": {},
   "outputs": [],
   "source": [
    "def mest_frekvente_ord(word_list):\n",
    "    word_counts = Counter(word_list)\n",
    "    most_common = word_counts.most_common(5)  \n",
    "    return most_common"
   ]
  },
  {
   "cell_type": "markdown",
   "id": "509e4be8-0e03-4440-9d21-9a19b31ffd61",
   "metadata": {},
   "source": [
    "**Tilføj selv** en kolonne til jeres `data frame` som i kalder `\"mestFrekvente\"` ved at anvende funktionen `mest_frekvente_ord` på kolonnen `\"txt_goWords\"`."
   ]
  },
  {
   "cell_type": "code",
   "execution_count": null,
   "id": "16e0fea5-fa8a-44c5-a6c8-24c11f99692b",
   "metadata": {},
   "outputs": [],
   "source": []
  },
  {
   "cell_type": "markdown",
   "id": "29ad9fc7-99d1-435b-9331-d3ff3c9976bb",
   "metadata": {},
   "source": [
    "Tjek at jeres `data frame` ser ud som den skal."
   ]
  },
  {
   "cell_type": "code",
   "execution_count": null,
   "id": "45e87e95-72ae-4ecf-bb40-27d3b65ae87c",
   "metadata": {},
   "outputs": [],
   "source": []
  },
  {
   "cell_type": "markdown",
   "id": "d0f43954-cad9-4adf-a621-6346316b2d2d",
   "metadata": {},
   "source": [
    "# Del 3: Plots"
   ]
  },
  {
   "cell_type": "markdown",
   "id": "d637fb3e-5b31-4a7e-ba55-468e8c7c82e3",
   "metadata": {},
   "source": [
    "Det kan være vanskeligt at overskue resultaterne ved blot at kigge på kolonnerne i en `data frame`. For at gøre det mere overskueligt kan vi plotte resultaterne.\n",
    "\n",
    "Vi begynder med at kigge på vores sentimentscorer.\n",
    "\n",
    "For at kunne plotte resultaterne trækker vi først ud af vores `data frame` og gemmer dem på to lister. Den første liste indeholder den **samlede sentimentscore** for hver tale, og den anden liste indeholder den **gennemsnitlige sentimentscore** for hver tale.\n",
    "\n",
    "Listene skal bruges som `input` i `plot`-funktionen."
   ]
  },
  {
   "cell_type": "code",
   "execution_count": null,
   "id": "5f1e4743-5232-40bf-bb60-9e081c6521ce",
   "metadata": {},
   "outputs": [],
   "source": [
    "totalSenti_lst = df_taler[\"totalSenti\"].tolist()"
   ]
  },
  {
   "cell_type": "code",
   "execution_count": null,
   "id": "cec89071-bc86-4223-99b4-315b6ea4f2ff",
   "metadata": {},
   "outputs": [],
   "source": [
    "gnsSenti_lst = df_taler[\"gnsSenti\"].tolist()"
   ]
  },
  {
   "cell_type": "markdown",
   "id": "f1189714-5daf-48d3-9623-3e845f78eb9e",
   "metadata": {},
   "source": [
    "Herefter udtrækker vi en liste med de fem mest **frekvente ord** for hver tekst."
   ]
  },
  {
   "cell_type": "code",
   "execution_count": null,
   "id": "73555f5b-84cd-4798-bc00-2573bd017b94",
   "metadata": {},
   "outputs": [],
   "source": [
    "mF_lst = df_taler[\"mestFrekvente\"].tolist()"
   ]
  },
  {
   "cell_type": "markdown",
   "id": "cec4eb13-39e1-44e8-b58c-808645036e1c",
   "metadata": {},
   "source": [
    "### 3.1 Plot af talernes sentiment score"
   ]
  },
  {
   "cell_type": "code",
   "execution_count": null,
   "id": "e6d9b1b8-8afe-44b3-bc39-eda76588b54d",
   "metadata": {},
   "outputs": [],
   "source": [
    "# Genererer x-akse punkter, dvs. antallet af taler\n",
    "x = list(range(1, 15))  # Opretter en liste med værdier fra 1 til 14 (læs fra 1 til, men ikke inklusive 15)\n",
    "\n",
    "# Opretter plottet\n",
    "plt.plot(x, gnsSenti_lst, marker='o', linestyle='-', label=\"Gns\", color=\"#ff33cc\")  # Plotter gennemsnitlige sentimentværdier med cirkelmarkører og ubrudt linje\n",
    "plt.plot(x, totalSenti_lst, marker='s', linestyle='--', label=\"Total\", color=\"#9966ff\")  # Plotter samlede sentimentværdier med firkantede markører og stiplet linje\n",
    "\n",
    "# Tilføjer aksetitler, diagramtitel og forklaring\n",
    "plt.xlabel(\"Taler\")  # Navngiver x-aksen som \"Taler\"\n",
    "plt.ylabel(\"Sentimentværdi\")  # Navngiver y-aksen som \"Sentimentværdi\"\n",
    "plt.title(\"Udvikling i sentimentværdi\")  # Titel på diagrammet\n",
    "plt.legend()  # Viser en forklaring, så man kan se, hvad de forskellige linjer repræsenterer\n",
    "\n",
    "# Viser diagrammet\n",
    "plt.show()  # Viser plottet på skærmen\n",
    "\n"
   ]
  },
  {
   "cell_type": "markdown",
   "id": "f31e85b9-afbc-4aff-80ca-308ffe9a43a2",
   "metadata": {},
   "source": [
    "**Diskutér** hvad I ser på plottet.\n",
    "1. Hvad viser den øverste linje?\n",
    "2. Hvad viser den nederste linje?\n",
    "3. Hvad fortæller en sammenligning af de to plotlinjer os om talerne?\n",
    "4. Er der noget ved resultatet, der virker mærkeligt?"
   ]
  },
  {
   "cell_type": "markdown",
   "id": "03db1ada-0024-41f5-bc12-d128b25fe73b",
   "metadata": {},
   "source": [
    "Vi plotter herefter **de to linjer hver for sig**. Det kan vi gøre ved først at **kommentere** linjen med det akkumulerede resultat ud, ved at sætt `#` foran linjen:"
   ]
  },
  {
   "cell_type": "code",
   "execution_count": null,
   "id": "48885c17-0d34-46d8-98c2-04d1d74a7b90",
   "metadata": {
    "scrolled": true
   },
   "outputs": [],
   "source": [
    "# Genererer x-akse punkter, dvs. antallet af taler\n",
    "x = list(range(1, 15))  # Opretter en liste med værdier fra 1 til 14 (læs fra 1 til, men ikke inklusive 15)\n",
    "\n",
    "# Opretter plottet\n",
    "plt.plot(x, gnsSenti_lst, marker='o', linestyle='-', label=\"Gns\", color=\"#ff33cc\")  # Plotter gennemsnitlige sentimentværdier med cirkelmarkører og ubrudt linje\n",
    "# plt.plot(x, totalSenti_lst, marker='s', linestyle='--', label=\"Total\", color=\"#9966ff\")  # Plotter samlede sentimentværdier med firkantede markører og stiplet linje\n",
    "\n",
    "# Tilføjer aksetitler, diagramtitel og forklaring\n",
    "plt.xlabel(\"Taler\")  # Navngiver x-aksen som \"Taler\"\n",
    "plt.ylabel(\"Sentimentværdi\")  # Navngiver y-aksen som \"Sentimentværdi\"\n",
    "plt.title(\"Udvikling i sentimentværdi\")  # Titel på diagrammet\n",
    "plt.legend()  # Viser en forklaring, så man kan se, hvad de forskellige linjer repræsenterer\n",
    "\n",
    "# Viser diagrammet\n",
    "plt.show()  # Viser plottet på skærmen\n",
    "\n"
   ]
  },
  {
   "cell_type": "markdown",
   "id": "8eca2c8f-c310-4900-8f30-8c15a628b699",
   "metadata": {},
   "source": [
    "Og derefter **kommeterer** vi linjen med det gennemsnitlioge resutat ud:"
   ]
  },
  {
   "cell_type": "code",
   "execution_count": null,
   "id": "caaeb735-be35-4501-8b9a-256b5e7c3ac9",
   "metadata": {},
   "outputs": [],
   "source": [
    "# Genererer x-akse punkter, dvs. antallet af taler\n",
    "x = list(range(1, 15))  # Opretter en liste med værdier fra 1 til 14 (læs fra 1 til, men ikke inklusive 15)\n",
    "\n",
    "# Opretter plottet\n",
    "# plt.plot(x, gnsSenti_lst, marker='o', linestyle='-', label=\"Gns\", color=\"#ff33cc\")  # Plotter gennemsnitlige sentimentværdier med cirkelmarkører og ubrudt linje\n",
    "plt.plot(x, totalSenti_lst, marker='s', linestyle='--', label=\"Total\", color=\"#9966ff\")  # Plotter samlede sentimentværdier med firkantede markører og stiplet linje\n",
    "\n",
    "# Tilføjer aksetitler, diagramtitel og forklaring\n",
    "plt.xlabel(\"Taler\")  # Navngiver x-aksen som \"Taler\"\n",
    "plt.ylabel(\"Sentimentværdi\")  # Navngiver y-aksen som \"Sentimentværdi\"\n",
    "plt.title(\"Udvikling i sentimentværdi\")  # Titel på diagrammet\n",
    "plt.legend()  # Viser en forklaring, så man kan se, hvad de forskellige linjer repræsenterer\n",
    "\n",
    "# Viser diagrammet\n",
    "plt.show()  # Viser plottet på skærmen\n"
   ]
  },
  {
   "cell_type": "markdown",
   "id": "8132970f-99e8-4917-87c3-cd9b38e4827f",
   "metadata": {},
   "source": [
    "**Diskutér** forskellen på de to plots:\n",
    "1. Hvad fortæller en sammenligning af de to plots os om talerne?\n",
    "2. Følges plottene ad?\n",
    "3. Kan I se noget nu, som I ikke kunne se, da vi plottede de to linjer i det samme plot?\n",
    "4. Hvorfor ser de linjen for for den gennemsnitlige sentmentscore anderledes ud, når vi plotter den sammen med den totale score sammenlignet med, når vi plotter den alene? "
   ]
  },
  {
   "cell_type": "markdown",
   "id": "84255b04-17f9-47d7-9848-7b016cd2b071",
   "metadata": {},
   "source": [
    "### 3.2 Plot af ordfrekvenser\n",
    "Vi skal nu plotte ordfrekvenser. Dette plot er en lille smule mere kompliceret, fordi orfrekvenserne kommer som par (ord/frekvens). Disse par skal først skilles ad. Derfor opretter vi først seperate lister med henholdsvis ord og frekvens.\n",
    "\n",
    "**Læs koden grundigt**. Forsøg at forstå, hvad de enkelte dele betyder.\n"
   ]
  },
  {
   "cell_type": "code",
   "execution_count": null,
   "id": "2acf5277-257c-4657-9b75-bc3c8b89ab39",
   "metadata": {},
   "outputs": [],
   "source": [
    "# Definerer variablen data\n",
    "data = mF_lst  \n",
    "\n",
    "# Definerer tomme lister\n",
    "o_lst = []\n",
    "f_lst = []\n",
    "t_lst = []  # Liste til at gemme tilhørende tekstgrupper\n",
    "\n",
    "# Gennemløber data og udtrækker ord, frekvenser og tekstlabels\n",
    "for i, text in enumerate(data):\n",
    "    for o, f in text:\n",
    "        o_lst.append(o)  # Tilføjer ord til listen\n",
    "        f_lst.append(f)  # Tilføjer frekvens til listen\n",
    "        t_lst.append(f\"Text {i+1}\")  # Opretter en label for hver tekstgruppe\n",
    "\n",
    "# Definerer en farvepalet med 14 farver for tydelig visuel adskillelse\n",
    "### Hvis i vil justere farverne, kan i finde flere farvekoder her: https://www.w3schools.com/colors/colors_picker.asp\n",
    "palette = [\"#e6194b\", \"#3cb44b\", \"#ffe119\", \"#4363d8\", \"#f58231\", \"#911eb4\", \"#46f0f0\",\n",
    "           \"#f032e6\", \"#bcf60c\", \"#fabebe\", \"#008080\", \"#e6beff\", \"#9a6324\", \"#fffac8\"]\n",
    "\n",
    "# Opretter figuren og bestemmer dens størrelse\n",
    "plt.figure(figsize=(12, 6))  # Sikrer en stor nok figur til tydelig præsentation\n",
    "\n",
    "# Plotter et grupperet søjlediagram med justeret bredde og farvepalet\n",
    "### hue grupperer og farvekoder stolperne for hver tekst\n",
    "sns.barplot(x=o_lst, y=f_lst, hue=t_lst, dodge=True, width=2, palette=palette)\n",
    "\n",
    "# Justerer x-ticks (ordene) for bedre læsbarhed\n",
    "plt.xticks(rotation=55, fontsize=6)  # Roterer ordene på x-aksen\n",
    "\n",
    "# Tilføjer x- og y-titler og diagramtitel\n",
    "plt.xlabel(\"Ord\")  # X-akse: Ord\n",
    "plt.ylabel(\"Frekvens\")  # Y-akse: Frekvens\n",
    "plt.title(\"Ordfrekvenser på tværs af talerne\")  # Diagramtitel\n",
    "\n",
    "# Tilføjer en oversigt (legend) over farvekodningen\n",
    "\n",
    "plt.legend(title=\"Tekst\")  # Viser hvilke tekster hver farve repræsenterer, legend henter sit input fra hue\n",
    "\n",
    "# Viser grafen\n",
    "plt.show()  # Viser grafen\n",
    "\n"
   ]
  },
  {
   "cell_type": "markdown",
   "id": "1fbd5050-0583-4881-8091-5e1ffcc9038d",
   "metadata": {},
   "source": [
    "**Diskutér** hvad plottet viser:\n",
    "1. Hvad fortæller plottet om de enkelte taler?\n",
    "2. Kan i genkende bestemte perioder i nedlukningsperioden?\n",
    "3. Hvilken histore om corona-perioden fortæller plottet?"
   ]
  },
  {
   "cell_type": "markdown",
   "id": "f4234fc8-0cd5-44dc-876d-7588484efdfa",
   "metadata": {},
   "source": [
    "**Sammelign** herefter *frekvensplottet* med *sentimentplottet*. Kan frekvensplottet forklare nogle af de udsving vi ser sentimentplottet?"
   ]
  },
  {
   "cell_type": "markdown",
   "id": "12909427-1f31-49e5-b717-a474c08e2a18",
   "metadata": {},
   "source": [
    "# Ekstraopgaver\n",
    "1. **Den nemme**: prøv at justere farverne på de forskellige grupper af søjler, så det enten bliver pænere eller lettere at aflæse.\n",
    "2. **Den lidt mindre nemme**: prøv at ændre på `legend`, så den i stedet for at vise *Tekst 1, tekst 2, osv* viser datoerne for de enkelte taler."
   ]
  },
  {
   "cell_type": "code",
   "execution_count": null,
   "id": "2f3129af-3891-4328-8995-50c134665ef9",
   "metadata": {},
   "outputs": [],
   "source": []
  }
 ],
 "metadata": {
  "kernelspec": {
   "display_name": "Python 3 (ipykernel)",
   "language": "python",
   "name": "python3"
  },
  "language_info": {
   "codemirror_mode": {
    "name": "ipython",
    "version": 3
   },
   "file_extension": ".py",
   "mimetype": "text/x-python",
   "name": "python",
   "nbconvert_exporter": "python",
   "pygments_lexer": "ipython3",
   "version": "3.12.3"
  }
 },
 "nbformat": 4,
 "nbformat_minor": 5
}
